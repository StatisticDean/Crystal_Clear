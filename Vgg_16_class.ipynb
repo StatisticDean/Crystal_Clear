{
 "cells": [
  {
   "cell_type": "code",
   "execution_count": null,
   "metadata": {},
   "outputs": [],
   "source": [
    "%load_ext autoreload\n",
    "%autoreload 2"
   ]
  },
  {
   "cell_type": "code",
   "execution_count": null,
   "metadata": {},
   "outputs": [],
   "source": [
    "from fastai import *\n",
    "from fastai.vision import *\n",
    "from torchvision.models import vgg16_bn\n",
    "from tqdm import tqdm, tqdm_notebook\n",
    "from crystal_clear.tensor_pipeline import TensorImageList\n",
    "from fastai.metrics import accuracy"
   ]
  },
  {
   "cell_type": "code",
   "execution_count": null,
   "metadata": {},
   "outputs": [],
   "source": [
    "pipeline = 'tensor_pipeline'\n",
    "path = Path(f'./data/crappified/dataset_1/{pipeline}')\n",
    "if pipeline == 'tensor_pipeline':\n",
    "    path_hr = path / 'orig_tensor'\n",
    "if pipeline == 'image_pipeline':\n",
    "    path_hr = path / 'orig_spectr'"
   ]
  },
  {
   "cell_type": "code",
   "execution_count": null,
   "metadata": {},
   "outputs": [],
   "source": [
    "if pipeline == 'tensor_pipeline':\n",
    "    meta = pd.read_csv('./data/crappified/dataset_1/meta/meta_tensor.csv')\n",
    "if pipeline == 'image_pipeline':\n",
    "    meta = pd.read_csv('./data/crappified/dataset_1/meta/meta_spectr.csv')\n",
    "meta.subset = meta.subset == 'valid'"
   ]
  },
  {
   "cell_type": "code",
   "execution_count": null,
   "metadata": {},
   "outputs": [],
   "source": [
    "meta.head()"
   ]
  },
  {
   "cell_type": "code",
   "execution_count": null,
   "metadata": {},
   "outputs": [],
   "source": [
    "vgg_orig = vgg16_bn(True)"
   ]
  },
  {
   "cell_type": "code",
   "execution_count": null,
   "metadata": {},
   "outputs": [],
   "source": [
    "new_head = torch.nn.Sequential(*(list(vgg_orig.classifier.children())[:-1] + [torch.nn.Linear(in_features=4096, out_features=8, bias=True)]))\n",
    "new_head"
   ]
  },
  {
   "cell_type": "code",
   "execution_count": null,
   "metadata": {},
   "outputs": [],
   "source": [
    "vgg_orig.classifier = new_head"
   ]
  },
  {
   "cell_type": "code",
   "execution_count": null,
   "metadata": {},
   "outputs": [],
   "source": [
    "bs = 32\n",
    "if pipeline == 'tensor_pipeline':\n",
    "    data_stats = torch.load(path / 'data_stats.pkl')\n",
    "    data = TensorImageList.from_df(meta, path_hr).split_from_df('subset').label_from_df('genre').databunch(bs=bs).normalize(data_stats)\n",
    "if pipeline == 'image_pipeline':\n",
    "    from fastai.vision.data import imagenet_stats\n",
    "    data_stats = imagenet_stats\n",
    "    data = ImageList.from_df(meta, path_hr).split_from_df('subset').label_from_df('genre').databunch(bs=bs).normalize(data_stats)"
   ]
  },
  {
   "cell_type": "code",
   "execution_count": null,
   "metadata": {},
   "outputs": [],
   "source": [
    "learn = Learner(data, vgg_orig, metrics=[accuracy])"
   ]
  },
  {
   "cell_type": "code",
   "execution_count": null,
   "metadata": {},
   "outputs": [],
   "source": [
    "learn.lr_find()\n",
    "learn.recorder.plot()"
   ]
  },
  {
   "cell_type": "code",
   "execution_count": null,
   "metadata": {},
   "outputs": [],
   "source": [
    "max_lr = 1e-3"
   ]
  },
  {
   "cell_type": "code",
   "execution_count": null,
   "metadata": {},
   "outputs": [],
   "source": [
    "learn.fit_one_cycle(1,max_lr = max_lr)"
   ]
  },
  {
   "cell_type": "code",
   "execution_count": null,
   "metadata": {},
   "outputs": [],
   "source": [
    "save_name = 'model_1_fastai'\n",
    "model_ft = learn.model\n",
    "torch.save(model_ft, path / 'model_clas' / f'{save_name}.pth')\n",
    "torch.save(model_ft.state_dict(), path / 'model_clas' / f'{save_name}_weights.pth')"
   ]
  },
  {
   "cell_type": "code",
   "execution_count": null,
   "metadata": {},
   "outputs": [],
   "source": []
  }
 ],
 "metadata": {
  "kernelspec": {
   "display_name": "Python [conda env:crystal_clear]",
   "language": "python",
   "name": "conda-env-crystal_clear-py"
  },
  "language_info": {
   "codemirror_mode": {
    "name": "ipython",
    "version": 3
   },
   "file_extension": ".py",
   "mimetype": "text/x-python",
   "name": "python",
   "nbconvert_exporter": "python",
   "pygments_lexer": "ipython3",
   "version": "3.6.8"
  }
 },
 "nbformat": 4,
 "nbformat_minor": 2
}
