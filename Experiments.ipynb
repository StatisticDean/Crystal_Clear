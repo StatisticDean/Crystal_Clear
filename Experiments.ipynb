{
 "cells": [
  {
   "cell_type": "code",
   "execution_count": 1,
   "metadata": {},
   "outputs": [],
   "source": [
    "%load_ext autoreload\n",
    "%autoreload 2"
   ]
  },
  {
   "cell_type": "code",
   "execution_count": 2,
   "metadata": {},
   "outputs": [],
   "source": [
    "import numpy as np\n",
    "import pandas as pd\n",
    "from pathlib import Path"
   ]
  },
  {
   "cell_type": "code",
   "execution_count": 8,
   "metadata": {},
   "outputs": [],
   "source": [
    "from crystal_clear.metadata import clean_meta, small_meta"
   ]
  },
  {
   "cell_type": "code",
   "execution_count": 11,
   "metadata": {},
   "outputs": [
    {
     "data": {
      "text/plain": [
       "array(['large', 'medium', 'small'], dtype=object)"
      ]
     },
     "execution_count": 11,
     "metadata": {},
     "output_type": "execute_result"
    }
   ],
   "source": [
    "np.unique(clean_meta().set_subset)"
   ]
  },
  {
   "cell_type": "markdown",
   "metadata": {},
   "source": [
    "#### Load Metadata "
   ]
  },
  {
   "cell_type": "code",
   "execution_count": 2,
   "metadata": {},
   "outputs": [
    {
     "name": "stderr",
     "output_type": "stream",
     "text": [
      "/home/ludovic/miniconda3/envs/crystal_clear/lib/python3.6/site-packages/IPython/core/interactiveshell.py:3020: DtypeWarning: Columns (0,1,5,6,8,12,18,20,21,22,24,33,34,38,39,44,47,49) have mixed types. Specify dtype option on import or set low_memory=False.\n",
      "  interactivity=interactivity, compiler=compiler, result=result)\n"
     ]
    },
    {
     "data": {
      "text/html": [
       "<div>\n",
       "<style scoped>\n",
       "    .dataframe tbody tr th:only-of-type {\n",
       "        vertical-align: middle;\n",
       "    }\n",
       "\n",
       "    .dataframe tbody tr th {\n",
       "        vertical-align: top;\n",
       "    }\n",
       "\n",
       "    .dataframe thead th {\n",
       "        text-align: right;\n",
       "    }\n",
       "</style>\n",
       "<table border=\"1\" class=\"dataframe\">\n",
       "  <thead>\n",
       "    <tr style=\"text-align: right;\">\n",
       "      <th></th>\n",
       "      <th>track_id</th>\n",
       "      <th>album_comments</th>\n",
       "      <th>album_date_created</th>\n",
       "      <th>album_date_released</th>\n",
       "      <th>album_engineer</th>\n",
       "      <th>album_favorites</th>\n",
       "      <th>album_id</th>\n",
       "      <th>album_information</th>\n",
       "      <th>album_listens</th>\n",
       "      <th>album_producer</th>\n",
       "      <th>...</th>\n",
       "      <th>track_information</th>\n",
       "      <th>track_interest</th>\n",
       "      <th>track_language_code</th>\n",
       "      <th>track_license</th>\n",
       "      <th>track_listens</th>\n",
       "      <th>track_lyricist</th>\n",
       "      <th>track_number</th>\n",
       "      <th>track_publisher</th>\n",
       "      <th>track_tags</th>\n",
       "      <th>track_title</th>\n",
       "    </tr>\n",
       "  </thead>\n",
       "  <tbody>\n",
       "    <tr>\n",
       "      <th>3</th>\n",
       "      <td>2</td>\n",
       "      <td>0</td>\n",
       "      <td>2008-11-26 01:44:45</td>\n",
       "      <td>2009-01-05 00:00:00</td>\n",
       "      <td>NaN</td>\n",
       "      <td>4</td>\n",
       "      <td>1</td>\n",
       "      <td>&lt;p&gt;&lt;/p&gt;</td>\n",
       "      <td>6073</td>\n",
       "      <td>NaN</td>\n",
       "      <td>...</td>\n",
       "      <td>NaN</td>\n",
       "      <td>4656</td>\n",
       "      <td>en</td>\n",
       "      <td>Attribution-NonCommercial-ShareAlike 3.0 Inter...</td>\n",
       "      <td>1293</td>\n",
       "      <td>NaN</td>\n",
       "      <td>3</td>\n",
       "      <td>NaN</td>\n",
       "      <td>[]</td>\n",
       "      <td>Food</td>\n",
       "    </tr>\n",
       "    <tr>\n",
       "      <th>4</th>\n",
       "      <td>3</td>\n",
       "      <td>0</td>\n",
       "      <td>2008-11-26 01:44:45</td>\n",
       "      <td>2009-01-05 00:00:00</td>\n",
       "      <td>NaN</td>\n",
       "      <td>4</td>\n",
       "      <td>1</td>\n",
       "      <td>&lt;p&gt;&lt;/p&gt;</td>\n",
       "      <td>6073</td>\n",
       "      <td>NaN</td>\n",
       "      <td>...</td>\n",
       "      <td>NaN</td>\n",
       "      <td>1470</td>\n",
       "      <td>en</td>\n",
       "      <td>Attribution-NonCommercial-ShareAlike 3.0 Inter...</td>\n",
       "      <td>514</td>\n",
       "      <td>NaN</td>\n",
       "      <td>4</td>\n",
       "      <td>NaN</td>\n",
       "      <td>[]</td>\n",
       "      <td>Electric Ave</td>\n",
       "    </tr>\n",
       "    <tr>\n",
       "      <th>5</th>\n",
       "      <td>5</td>\n",
       "      <td>0</td>\n",
       "      <td>2008-11-26 01:44:45</td>\n",
       "      <td>2009-01-05 00:00:00</td>\n",
       "      <td>NaN</td>\n",
       "      <td>4</td>\n",
       "      <td>1</td>\n",
       "      <td>&lt;p&gt;&lt;/p&gt;</td>\n",
       "      <td>6073</td>\n",
       "      <td>NaN</td>\n",
       "      <td>...</td>\n",
       "      <td>NaN</td>\n",
       "      <td>1933</td>\n",
       "      <td>en</td>\n",
       "      <td>Attribution-NonCommercial-ShareAlike 3.0 Inter...</td>\n",
       "      <td>1151</td>\n",
       "      <td>NaN</td>\n",
       "      <td>6</td>\n",
       "      <td>NaN</td>\n",
       "      <td>[]</td>\n",
       "      <td>This World</td>\n",
       "    </tr>\n",
       "    <tr>\n",
       "      <th>6</th>\n",
       "      <td>10</td>\n",
       "      <td>0</td>\n",
       "      <td>2008-11-26 01:45:08</td>\n",
       "      <td>2008-02-06 00:00:00</td>\n",
       "      <td>NaN</td>\n",
       "      <td>4</td>\n",
       "      <td>6</td>\n",
       "      <td>NaN</td>\n",
       "      <td>47632</td>\n",
       "      <td>NaN</td>\n",
       "      <td>...</td>\n",
       "      <td>NaN</td>\n",
       "      <td>54881</td>\n",
       "      <td>en</td>\n",
       "      <td>Attribution-NonCommercial-NoDerivatives (aka M...</td>\n",
       "      <td>50135</td>\n",
       "      <td>NaN</td>\n",
       "      <td>1</td>\n",
       "      <td>NaN</td>\n",
       "      <td>[]</td>\n",
       "      <td>Freeway</td>\n",
       "    </tr>\n",
       "    <tr>\n",
       "      <th>7</th>\n",
       "      <td>20</td>\n",
       "      <td>0</td>\n",
       "      <td>2008-11-26 01:45:05</td>\n",
       "      <td>2009-01-06 00:00:00</td>\n",
       "      <td>NaN</td>\n",
       "      <td>2</td>\n",
       "      <td>4</td>\n",
       "      <td>&lt;p&gt; \"spiritual songs\" from Nicky Cook&lt;/p&gt;</td>\n",
       "      <td>2710</td>\n",
       "      <td>NaN</td>\n",
       "      <td>...</td>\n",
       "      <td>NaN</td>\n",
       "      <td>978</td>\n",
       "      <td>en</td>\n",
       "      <td>Attribution-NonCommercial-NoDerivatives (aka M...</td>\n",
       "      <td>361</td>\n",
       "      <td>NaN</td>\n",
       "      <td>3</td>\n",
       "      <td>NaN</td>\n",
       "      <td>[]</td>\n",
       "      <td>Spiritual Level</td>\n",
       "    </tr>\n",
       "  </tbody>\n",
       "</table>\n",
       "<p>5 rows × 53 columns</p>\n",
       "</div>"
      ],
      "text/plain": [
       "  track_id album_comments   album_date_created  album_date_released  \\\n",
       "3        2              0  2008-11-26 01:44:45  2009-01-05 00:00:00   \n",
       "4        3              0  2008-11-26 01:44:45  2009-01-05 00:00:00   \n",
       "5        5              0  2008-11-26 01:44:45  2009-01-05 00:00:00   \n",
       "6       10              0  2008-11-26 01:45:08  2008-02-06 00:00:00   \n",
       "7       20              0  2008-11-26 01:45:05  2009-01-06 00:00:00   \n",
       "\n",
       "  album_engineer album_favorites album_id  \\\n",
       "3            NaN               4        1   \n",
       "4            NaN               4        1   \n",
       "5            NaN               4        1   \n",
       "6            NaN               4        6   \n",
       "7            NaN               2        4   \n",
       "\n",
       "                           album_information album_listens album_producer  \\\n",
       "3                                    <p></p>          6073            NaN   \n",
       "4                                    <p></p>          6073            NaN   \n",
       "5                                    <p></p>          6073            NaN   \n",
       "6                                        NaN         47632            NaN   \n",
       "7  <p> \"spiritual songs\" from Nicky Cook</p>          2710            NaN   \n",
       "\n",
       "        ...        track_information track_interest track_language_code  \\\n",
       "3       ...                      NaN           4656                  en   \n",
       "4       ...                      NaN           1470                  en   \n",
       "5       ...                      NaN           1933                  en   \n",
       "6       ...                      NaN          54881                  en   \n",
       "7       ...                      NaN            978                  en   \n",
       "\n",
       "                                       track_license track_listens  \\\n",
       "3  Attribution-NonCommercial-ShareAlike 3.0 Inter...          1293   \n",
       "4  Attribution-NonCommercial-ShareAlike 3.0 Inter...           514   \n",
       "5  Attribution-NonCommercial-ShareAlike 3.0 Inter...          1151   \n",
       "6  Attribution-NonCommercial-NoDerivatives (aka M...         50135   \n",
       "7  Attribution-NonCommercial-NoDerivatives (aka M...           361   \n",
       "\n",
       "  track_lyricist track_number track_publisher track_tags      track_title  \n",
       "3            NaN            3             NaN         []             Food  \n",
       "4            NaN            4             NaN         []     Electric Ave  \n",
       "5            NaN            6             NaN         []       This World  \n",
       "6            NaN            1             NaN         []          Freeway  \n",
       "7            NaN            3             NaN         []  Spiritual Level  \n",
       "\n",
       "[5 rows x 53 columns]"
      ]
     },
     "execution_count": 2,
     "metadata": {},
     "output_type": "execute_result"
    }
   ],
   "source": [
    "df_meta = pd.read_csv('./data/fma_metadata/tracks.csv', header=None)\n",
    "def combine_list(list_1, list_2):\n",
    "    l=[]\n",
    "    for i in range(len(list_1)):\n",
    "        l.append(list_1[i] + '_' + list_2[i])\n",
    "    return(l)\n",
    "        \n",
    "columns = ['track_id'] + combine_list(df_meta.iloc[0,1:].values, df_meta.iloc[1,1:].values)\n",
    "df_meta = df_meta.iloc[3:,:]\n",
    "df_meta.columns = columns\n",
    "df_meta.head()"
   ]
  },
  {
   "cell_type": "code",
   "execution_count": 3,
   "metadata": {},
   "outputs": [
    {
     "data": {
      "text/plain": [
       "Index(['track_id', 'album_comments', 'album_date_created',\n",
       "       'album_date_released', 'album_engineer', 'album_favorites', 'album_id',\n",
       "       'album_information', 'album_listens', 'album_producer', 'album_tags',\n",
       "       'album_title', 'album_tracks', 'album_type', 'artist_active_year_begin',\n",
       "       'artist_active_year_end', 'artist_associated_labels', 'artist_bio',\n",
       "       'artist_comments', 'artist_date_created', 'artist_favorites',\n",
       "       'artist_id', 'artist_latitude', 'artist_location', 'artist_longitude',\n",
       "       'artist_members', 'artist_name', 'artist_related_projects',\n",
       "       'artist_tags', 'artist_website', 'artist_wikipedia_page', 'set_split',\n",
       "       'set_subset', 'track_bit_rate', 'track_comments', 'track_composer',\n",
       "       'track_date_created', 'track_date_recorded', 'track_duration',\n",
       "       'track_favorites', 'track_genre_top', 'track_genres',\n",
       "       'track_genres_all', 'track_information', 'track_interest',\n",
       "       'track_language_code', 'track_license', 'track_listens',\n",
       "       'track_lyricist', 'track_number', 'track_publisher', 'track_tags',\n",
       "       'track_title'],\n",
       "      dtype='object')"
      ]
     },
     "execution_count": 3,
     "metadata": {},
     "output_type": "execute_result"
    }
   ],
   "source": [
    "df_meta.columns"
   ]
  },
  {
   "cell_type": "markdown",
   "metadata": {},
   "source": [
    "### Split train and validation And choose genre(eventually?)"
   ]
  },
  {
   "cell_type": "code",
   "execution_count": 4,
   "metadata": {},
   "outputs": [
    {
     "data": {
      "text/plain": [
       "array(['Electronic', 'Experimental', 'Folk', 'Hip-Hop', 'Instrumental',\n",
       "       'International', 'Pop', 'Rock'], dtype=object)"
      ]
     },
     "execution_count": 4,
     "metadata": {},
     "output_type": "execute_result"
    }
   ],
   "source": [
    "df_meta_small = df_meta[df_meta.set_subset == 'small']\n",
    "np.unique(df_meta_small.track_genre_top)"
   ]
  },
  {
   "cell_type": "code",
   "execution_count": 5,
   "metadata": {},
   "outputs": [],
   "source": [
    "genre = 'Rock'"
   ]
  },
  {
   "cell_type": "code",
   "execution_count": 6,
   "metadata": {},
   "outputs": [
    {
     "data": {
      "text/html": [
       "<div>\n",
       "<style scoped>\n",
       "    .dataframe tbody tr th:only-of-type {\n",
       "        vertical-align: middle;\n",
       "    }\n",
       "\n",
       "    .dataframe tbody tr th {\n",
       "        vertical-align: top;\n",
       "    }\n",
       "\n",
       "    .dataframe thead th {\n",
       "        text-align: right;\n",
       "    }\n",
       "</style>\n",
       "<table border=\"1\" class=\"dataframe\">\n",
       "  <thead>\n",
       "    <tr style=\"text-align: right;\">\n",
       "      <th></th>\n",
       "      <th>track_id</th>\n",
       "      <th>album_comments</th>\n",
       "      <th>album_date_created</th>\n",
       "      <th>album_date_released</th>\n",
       "      <th>album_engineer</th>\n",
       "      <th>album_favorites</th>\n",
       "      <th>album_id</th>\n",
       "      <th>album_information</th>\n",
       "      <th>album_listens</th>\n",
       "      <th>album_producer</th>\n",
       "      <th>...</th>\n",
       "      <th>track_information</th>\n",
       "      <th>track_interest</th>\n",
       "      <th>track_language_code</th>\n",
       "      <th>track_license</th>\n",
       "      <th>track_listens</th>\n",
       "      <th>track_lyricist</th>\n",
       "      <th>track_number</th>\n",
       "      <th>track_publisher</th>\n",
       "      <th>track_tags</th>\n",
       "      <th>track_title</th>\n",
       "    </tr>\n",
       "  </thead>\n",
       "  <tbody>\n",
       "    <tr>\n",
       "      <th>36255</th>\n",
       "      <td>54568</td>\n",
       "      <td>0</td>\n",
       "      <td>2011-10-05 17:01:43</td>\n",
       "      <td>NaN</td>\n",
       "      <td>NaN</td>\n",
       "      <td>0</td>\n",
       "      <td>10207</td>\n",
       "      <td>NaN</td>\n",
       "      <td>32885</td>\n",
       "      <td>NaN</td>\n",
       "      <td>...</td>\n",
       "      <td>NaN</td>\n",
       "      <td>1596</td>\n",
       "      <td>NaN</td>\n",
       "      <td>Attribution-NonCommercial-NoDerivatives (aka M...</td>\n",
       "      <td>1248</td>\n",
       "      <td>NaN</td>\n",
       "      <td>1</td>\n",
       "      <td>NaN</td>\n",
       "      <td>[]</td>\n",
       "      <td>Mil Amores,  Santiago Huancayo</td>\n",
       "    </tr>\n",
       "  </tbody>\n",
       "</table>\n",
       "<p>1 rows × 53 columns</p>\n",
       "</div>"
      ],
      "text/plain": [
       "      track_id album_comments   album_date_created album_date_released  \\\n",
       "36255    54568              0  2011-10-05 17:01:43                 NaN   \n",
       "\n",
       "      album_engineer album_favorites album_id album_information album_listens  \\\n",
       "36255            NaN               0    10207               NaN         32885   \n",
       "\n",
       "      album_producer               ...               track_information  \\\n",
       "36255            NaN               ...                             NaN   \n",
       "\n",
       "      track_interest track_language_code  \\\n",
       "36255           1596                 NaN   \n",
       "\n",
       "                                           track_license track_listens  \\\n",
       "36255  Attribution-NonCommercial-NoDerivatives (aka M...          1248   \n",
       "\n",
       "      track_lyricist track_number track_publisher track_tags  \\\n",
       "36255            NaN            1             NaN         []   \n",
       "\n",
       "                          track_title  \n",
       "36255  Mil Amores,  Santiago Huancayo  \n",
       "\n",
       "[1 rows x 53 columns]"
      ]
     },
     "execution_count": 6,
     "metadata": {},
     "output_type": "execute_result"
    }
   ],
   "source": [
    "df_meta_small.sample()"
   ]
  },
  {
   "cell_type": "markdown",
   "metadata": {},
   "source": [
    "### Check properties of file"
   ]
  },
  {
   "cell_type": "code",
   "execution_count": 27,
   "metadata": {},
   "outputs": [],
   "source": [
    "import scipy\n",
    "from scipy.signal import stft\n",
    "import matplotlib.pyplot as plt\n",
    "from crystal_clear.metadata import small_meta\n",
    "from crystal_clear.prepare import open_random_file"
   ]
  },
  {
   "cell_type": "code",
   "execution_count": 29,
   "metadata": {},
   "outputs": [],
   "source": [
    "song = open_random_file(small_meta())\n",
    "\n",
    "samples = np.array(song.get_array_of_samples()).reshape(song.channels, -1, order='F')\n",
    "sample_rate = song.frame_rate\n",
    "\n",
    "sample_rate, samples.shape"
   ]
  },
  {
   "cell_type": "code",
   "execution_count": 29,
   "metadata": {},
   "outputs": [
    {
     "data": {
      "image/png": "[encoded data removed]",
      "text/plain": [
       "<Figure size 432x288 with 1 Axes>"
      ]
     },
     "metadata": {
      "needs_background": "light"
     },
     "output_type": "display_data"
    }
   ],
   "source": [
    "f, t, Zxx = scipy.signal.stft(samples, sample_rate)\n",
    "\n",
    "plt.pcolormesh(t[:129], f, np.abs(Zxx)[0,:,:129], vmin=0)\n",
    "plt.title('STFT Magnitude')\n",
    "plt.ylabel('Frequency [Hz]')\n",
    "plt.xlabel('Time [sec]')\n",
    "plt.show()"
   ]
  },
  {
   "cell_type": "code",
   "execution_count": 30,
   "metadata": {},
   "outputs": [
    {
     "data": {
      "text/plain": [
       "3"
      ]
     },
     "execution_count": 30,
     "metadata": {},
     "output_type": "execute_result"
    }
   ],
   "source": [
    "len(np.abs(Zxx).shape)"
   ]
  },
  {
   "cell_type": "code",
   "execution_count": 35,
   "metadata": {},
   "outputs": [],
   "source": [
    "from crystal_clear.prepare import *"
   ]
  },
  {
   "cell_type": "code",
   "execution_count": 32,
   "metadata": {},
   "outputs": [
    {
     "data": {
      "text/plain": [
       "(2, 129, 10338)"
      ]
     },
     "execution_count": 32,
     "metadata": {},
     "output_type": "execute_result"
    }
   ],
   "source": [
    "data = np.abs(Zxx)\n",
    "data.shape"
   ]
  },
  {
   "cell_type": "code",
   "execution_count": 37,
   "metadata": {},
   "outputs": [],
   "source": [
    "data_3D = make_into_3D(data)"
   ]
  },
  {
   "cell_type": "code",
   "execution_count": 49,
   "metadata": {},
   "outputs": [
    {
     "data": {
      "text/plain": [
       "(3, 129, 129)"
      ]
     },
     "execution_count": 49,
     "metadata": {},
     "output_type": "execute_result"
    }
   ],
   "source": [
    "np.pad(data_3D[:, :, :100], ((0,0), (0,0) , (0, 29)), mode='constant').shape"
   ]
  },
  {
   "cell_type": "code",
   "execution_count": 58,
   "metadata": {},
   "outputs": [
    {
     "data": {
      "text/plain": [
       "(3, 129, 129)"
      ]
     },
     "execution_count": 58,
     "metadata": {},
     "output_type": "execute_result"
    }
   ],
   "source": [
    "make_3D_into_square(data_3D)[0][0].shape"
   ]
  },
  {
   "cell_type": "code",
   "execution_count": null,
   "metadata": {},
   "outputs": [],
   "source": []
  }
 ],
 "metadata": {
  "kernelspec": {
   "display_name": "Python [conda env:crystal_clear]",
   "language": "python",
   "name": "conda-env-crystal_clear-py"
  },
  "language_info": {
   "codemirror_mode": {
    "name": "ipython",
    "version": 3
   },
   "file_extension": ".py",
   "mimetype": "text/x-python",
   "name": "python",
   "nbconvert_exporter": "python",
   "pygments_lexer": "ipython3",
   "version": "3.6.8"
  }
 },
 "nbformat": 4,
 "nbformat_minor": 2
}
